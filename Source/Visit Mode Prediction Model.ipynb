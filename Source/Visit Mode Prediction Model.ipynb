{
 "cells": [
  {
   "cell_type": "code",
   "execution_count": 1,
   "id": "177695cf",
   "metadata": {},
   "outputs": [],
   "source": [
    "import pandas as pd\n",
    "import numpy as np\n",
    "from sklearn.model_selection import train_test_split\n",
    "from sklearn.preprocessing import LabelEncoder, StandardScaler \n",
    "from sklearn.ensemble import RandomForestClassifier\n",
    "from sklearn.metrics import accuracy_score, precision_score, recall_score, f1_score,classification_report, confusion_matrix\n",
    "import pickle\n",
    "import warnings\n",
    "warnings.filterwarnings('ignore')"
   ]
  },
  {
   "cell_type": "code",
   "execution_count": 2,
   "id": "de5c02ef",
   "metadata": {},
   "outputs": [],
   "source": [
    "# Load dataset\n",
    "data = pd.read_excel('C:/Users/Saima Modak/Capstone Projects/Tourism Analysis/Datasets/Final Dataset.xlsx')"
   ]
  },
  {
   "cell_type": "code",
   "execution_count": 3,
   "id": "8e82c0a4",
   "metadata": {},
   "outputs": [],
   "source": [
    "# Advanced feature engineering for visit mode prediction\n",
    "def create_advanced_features(df):\n",
    "    \"\"\"Create sophisticated features that better predict visit mode\"\"\"\n",
    "    \n",
    "    # Create a copy to avoid modifying original\n",
    "    df_enhanced = df.copy()\n",
    "    \n",
    "    # 1. USER BEHAVIOR PATTERNS\n",
    "    # User's preferred travel seasons\n",
    "    user_seasonal_preference = df.groupby(['UserId', 'VisitSeason']).size().reset_index(name='count')\n",
    "    user_dominant_season = user_seasonal_preference.sort_values('count', ascending=False).groupby('UserId').first()\n",
    "    df_enhanced = df_enhanced.merge(user_dominant_season[['VisitSeason']], left_on='UserId', right_index=True, how='left', suffixes=('', '_preferred'))\n",
    "    \n",
    "    # User's visit mode percentages - fixed for pandas warning\n",
    "    user_visit_mode_freq = df.groupby(['UserId', 'VisitMode']).size().reset_index(name='count')\n",
    "    user_visit_totals = user_visit_mode_freq.groupby('UserId')['count'].sum().reset_index(name='total')\n",
    "    user_visit_mode_freq = user_visit_mode_freq.merge(user_visit_totals, on='UserId')\n",
    "    user_visit_mode_freq['pct'] = user_visit_mode_freq['count'] / user_visit_mode_freq['total']\n",
    "    user_visit_mode_pct = user_visit_mode_freq.pivot(index='UserId', columns='VisitMode', values='pct').fillna(0)\n",
    "    \n",
    "    for col in user_visit_mode_pct.columns:\n",
    "        df_enhanced = df_enhanced.merge(user_visit_mode_pct[[col]], left_on='UserId', right_index=True, how='left')\n",
    "        df_enhanced.rename(columns={col: f'user_pct_{col}'}, inplace=True)\n",
    "    \n",
    "    # 2. TEMPORAL PATTERNS\n",
    "    # Visit mode by month patterns\n",
    "    monthly_mode_dist = pd.crosstab(df['VisitMonth'], df['VisitMode'], normalize='index')\n",
    "    for mode in monthly_mode_dist.columns:\n",
    "        month_mode_prob = dict(zip(monthly_mode_dist.index, monthly_mode_dist[mode]))\n",
    "        df_enhanced[f'month_mode_prob_{mode}'] = df_enhanced['VisitMonth'].map(month_mode_prob)\n",
    "    \n",
    "    # Cyclical encoding for months\n",
    "    df_enhanced['sin_month'] = np.sin(2 * np.pi * df_enhanced['VisitMonth'] / 12)\n",
    "    df_enhanced['cos_month'] = np.cos(2 * np.pi * df_enhanced['VisitMonth'] / 12)\n",
    "    \n",
    "    # 3. GEOGRAPHIC PATTERNS\n",
    "    # Visit mode by demographic patterns\n",
    "    continent_mode_dist = pd.crosstab(df['Continent'], df['VisitMode'], normalize='index')\n",
    "    \n",
    "    for mode in continent_mode_dist.columns:\n",
    "        continent_mode_prob = dict(zip(continent_mode_dist.index, continent_mode_dist[mode]))\n",
    "        df_enhanced[f'continent_mode_prob_{mode}'] = df_enhanced['Continent'].map(continent_mode_prob)\n",
    "    \n",
    "    # 4. INTERACTION FEATURES\n",
    "    # User-Attraction compatibility scores\n",
    "    user_attraction_compatibility = df.groupby(['UserId', 'AttractionType'])['Rating'].mean().reset_index()\n",
    "    df_enhanced = df_enhanced.merge(\n",
    "        user_attraction_compatibility.rename(columns={'Rating': 'user_attraction_compatibility'}),\n",
    "        on=['UserId', 'AttractionType'],\n",
    "        how='left'\n",
    "    )\n",
    "    \n",
    "    # 5. BEHAVIORAL SEQUENCES\n",
    "    # Previous visit mode\n",
    "    df_enhanced = df_enhanced.sort_values(['UserId', 'VisitYear', 'VisitMonth'])\n",
    "    df_enhanced['prev_visit_mode'] = df_enhanced.groupby('UserId')['VisitMode'].shift(1)\n",
    "    \n",
    "    # 6. ADVANCED AGGREGATIONS\n",
    "    # User travel diversity score\n",
    "    df_enhanced['user_travel_diversity'] = df_enhanced.groupby('UserId')['VisitMode'].transform('nunique')\n",
    "    df_enhanced['user_attraction_diversity'] = df_enhanced.groupby('UserId')['AttractionType'].transform('nunique')\n",
    "    \n",
    "    # Fill missing values\n",
    "    numeric_columns = df_enhanced.select_dtypes(include=[np.number]).columns\n",
    "    for col in numeric_columns:\n",
    "        df_enhanced[col] = df_enhanced[col].fillna(df_enhanced[col].mean())\n",
    "    \n",
    "    return df_enhanced\n",
    "\n"
   ]
  },
  {
   "cell_type": "code",
   "execution_count": 4,
   "id": "4887fff6",
   "metadata": {},
   "outputs": [],
   "source": [
    "# Apply enhanced feature engineering\n",
    "df_enhanced = create_advanced_features(data)    "
   ]
  },
  {
   "cell_type": "code",
   "execution_count": 5,
   "id": "c1c5ae1c",
   "metadata": {},
   "outputs": [
    {
     "data": {
      "text/plain": [
       "Index(['TransactionId', 'UserId', 'VisitYear', 'VisitMonth', 'AttractionId',\n",
       "       'Rating', 'RegionId', 'UserCountryId', 'User_City_Id',\n",
       "       'AttractionTypeId', 'Attraction', 'AttractionAddress', 'VisitModeId',\n",
       "       'VisitMode', 'AttractionType', 'Continent', 'Region', 'ContinentID',\n",
       "       'Country', 'Country_RegionId', 'CityId', 'CityName',\n",
       "       'AttractionCountryId', 'Missing_City_ID', 'VisitSeason', 'VisitQuarter',\n",
       "       'user_previous_visits', 'user_avg_rating_before', 'user_rating_trend',\n",
       "       'attraction_previous_visits', 'attraction_avg_rating_before',\n",
       "       'attraction_previous_visitors', 'city_popularity', 'user_continent',\n",
       "       'user_attraction_type', 'attraction_type_season',\n",
       "       'VisitSeason_preferred', 'user_pct_Business', 'user_pct_Couples',\n",
       "       'user_pct_Family', 'user_pct_Friends', 'user_pct_Solo',\n",
       "       'month_mode_prob_Business', 'month_mode_prob_Couples',\n",
       "       'month_mode_prob_Family', 'month_mode_prob_Friends',\n",
       "       'month_mode_prob_Solo', 'sin_month', 'cos_month',\n",
       "       'continent_mode_prob_Business', 'continent_mode_prob_Couples',\n",
       "       'continent_mode_prob_Family', 'continent_mode_prob_Friends',\n",
       "       'continent_mode_prob_Solo', 'user_attraction_compatibility',\n",
       "       'prev_visit_mode', 'user_travel_diversity',\n",
       "       'user_attraction_diversity'],\n",
       "      dtype='object')"
      ]
     },
     "execution_count": 5,
     "metadata": {},
     "output_type": "execute_result"
    }
   ],
   "source": [
    "df_enhanced.columns"
   ]
  },
  {
   "cell_type": "code",
   "execution_count": 6,
   "id": "ef488f5a",
   "metadata": {},
   "outputs": [],
   "source": [
    "# Calculate month-mode probabilities\n",
    "monthly_mode_dist = pd.crosstab(df_enhanced['VisitMonth'], df_enhanced['VisitMode'], normalize='index')\n",
    "\n",
    "# Convert to nested dict: {mode: {month: prob, ...}, ...}\n",
    "month_mode_probs = {mode: monthly_mode_dist[mode].to_dict() for mode in monthly_mode_dist.columns}"
   ]
  },
  {
   "cell_type": "code",
   "execution_count": null,
   "id": "8f27c9e9",
   "metadata": {},
   "outputs": [],
   "source": [
    "# Calculate continent-mode probabilities\n",
    "continent_mode_dist = pd.crosstab(df_enhanced['Continent'], df_enhanced['VisitMode'], normalize='index')\n",
    "\n",
    "# Convert to nested dict: {mode: {continent: prob, ...}, ...}\n",
    "continent_mode_probs = {mode: continent_mode_dist[mode].to_dict() for mode in continent_mode_dist.columns}"
   ]
  },
  {
   "cell_type": "code",
   "execution_count": 8,
   "id": "47b1a28d",
   "metadata": {},
   "outputs": [],
   "source": [
    "# Define features\n",
    "numerical_features = [\n",
    "    'VisitMonth', 'VisitQuarter', 'VisitYear',\n",
    "    'continent_mode_prob_Business', 'continent_mode_prob_Couples',\n",
    "    'user_pct_Couples', 'user_pct_Family', 'user_pct_Friends', 'user_pct_Business',\n",
    "    'user_travel_diversity', 'attraction_avg_rating_before', 'user_previous_visits',\n",
    "    'city_popularity', 'user_avg_rating_before', 'user_attraction_compatibility',\n",
    "    'sin_month', 'cos_month', 'month_mode_prob_Business', 'month_mode_prob_Family',\n",
    "    'month_mode_prob_Friends', 'month_mode_prob_Couples'\n",
    "]\n",
    "categorical_features = [\n",
    "    'VisitSeason', 'Continent', 'Region', 'Country', 'CityName',\n",
    "    'AttractionType', 'prev_visit_mode'\n",
    "]\n",
    "\n",
    "# Define target variable\n",
    "target = 'VisitMode'"
   ]
  },
  {
   "cell_type": "code",
   "execution_count": 9,
   "id": "8a97a32b",
   "metadata": {},
   "outputs": [
    {
     "name": "stdout",
     "output_type": "stream",
     "text": [
      "Unique prev_visit_mode values after cleaning: ['Unknown' 'Friends' 'Couples' 'Family' 'Solo' 'Business']\n"
     ]
    }
   ],
   "source": [
    "# Preprocess categorical features: handle NaN and group rare categories\n",
    "for col in categorical_features:\n",
    "    # Replace NaN with 'Unknown'\n",
    "    df_enhanced[col] = df_enhanced[col].fillna('Unknown')\n",
    "    # Group rare categories into 'Other'\n",
    "    value_counts = df_enhanced[col].value_counts()\n",
    "    rare_categories = value_counts[value_counts < 5].index\n",
    "    df_enhanced[col] = df_enhanced[col].apply(lambda x: 'Other' if x in rare_categories else x)\n",
    "\n",
    "print(\"Unique prev_visit_mode values after cleaning:\", df_enhanced['prev_visit_mode'].unique())"
   ]
  },
  {
   "cell_type": "code",
   "execution_count": 10,
   "id": "9ddfce37",
   "metadata": {},
   "outputs": [],
   "source": [
    "# Split the data into training and test sets (80% train, 20% test, stratified)\n",
    "X = df_enhanced[numerical_features + categorical_features]\n",
    "y = df_enhanced[target]\n",
    "X_train, X_test, y_train, y_test = train_test_split( X, y, test_size=0.2, random_state=42, stratify=y)"
   ]
  },
  {
   "cell_type": "code",
   "execution_count": 11,
   "id": "69edca9f",
   "metadata": {},
   "outputs": [],
   "source": [
    "# Initialize preprocessors\n",
    "scaler = StandardScaler ()\n",
    "encoders = {}\n",
    "\n",
    "# Encode categorical features\n",
    "for col in categorical_features:\n",
    "    le = LabelEncoder()\n",
    "    X_train[col] = le.fit_transform(X_train[col])\n",
    "    X_test[col] = le.transform(X_test[col])\n",
    "    encoders[col] = le\n",
    "\n",
    "# Scale numerical features\n",
    "X_train[numerical_features] = scaler.fit_transform(X_train[numerical_features])\n",
    "X_test[numerical_features] = scaler.transform(X_test[numerical_features])\n",
    "\n",
    "# Encode target variable\n",
    "target_encoder = LabelEncoder()\n",
    "y_train_encoded = target_encoder.fit_transform(y_train)\n",
    "y_test_encoded = target_encoder.transform(y_test)\n",
    "\n",
    "encoded = target_encoder.transform(y_test)"
   ]
  },
  {
   "cell_type": "code",
   "execution_count": 12,
   "id": "816a25db",
   "metadata": {},
   "outputs": [],
   "source": [
    "# Define all features for the model\n",
    "all_features = numerical_features + categorical_features"
   ]
  },
  {
   "cell_type": "code",
   "execution_count": 13,
   "id": "8f0fc01f",
   "metadata": {},
   "outputs": [],
   "source": [
    "# Train the model\n",
    "model = RandomForestClassifier(n_estimators=500,\n",
    "    max_depth=20,\n",
    "    min_samples_split=5,\n",
    "    min_samples_leaf=2,\n",
    "    class_weight='balanced',\n",
    "    random_state=42,\n",
    "    n_jobs=-1)\n",
    "model.fit(X_train[all_features], y_train_encoded)\n",
    "\n",
    "# Predict from the model\n",
    "y_pred_encoded = model.predict(X_test[all_features])\n"
   ]
  },
  {
   "cell_type": "code",
   "execution_count": 14,
   "id": "99aaac45",
   "metadata": {},
   "outputs": [
    {
     "name": "stdout",
     "output_type": "stream",
     "text": [
      "\n",
      "Random Forest Model Performance\n",
      "Accuracy: 0.9255\n",
      "Precision: 0.9266\n",
      "Recall: 0.9255\n",
      "F1-Score: 0.9258\n"
     ]
    }
   ],
   "source": [
    "# Evaluating the model\n",
    "accuracy = accuracy_score(y_test_encoded, y_pred_encoded)\n",
    "precision = precision_score(y_test_encoded, y_pred_encoded, average='weighted')\n",
    "recall = recall_score(y_test_encoded, y_pred_encoded, average='weighted')\n",
    "f1 = f1_score(y_test_encoded, y_pred_encoded, average='weighted')\n",
    "\n",
    "print(\"\\nRandom Forest Model Performance\")\n",
    "print(f\"Accuracy: {accuracy:.4f}\")\n",
    "print(f\"Precision: {precision:.4f}\")\n",
    "print(f\"Recall: {recall:.4f}\")\n",
    "print(f\"F1-Score: {f1:.4f}\")"
   ]
  },
  {
   "cell_type": "code",
   "execution_count": 15,
   "id": "1c80c669",
   "metadata": {},
   "outputs": [
    {
     "name": "stdout",
     "output_type": "stream",
     "text": [
      "\n",
      "Classification Report:\n",
      "              precision    recall  f1-score   support\n",
      "\n",
      "    Business       0.70      0.92      0.80       125\n",
      "     Couples       0.96      0.93      0.94      4324\n",
      "      Family       0.93      0.94      0.93      3043\n",
      "     Friends       0.90      0.91      0.91      2189\n",
      "        Solo       0.88      0.88      0.88       905\n",
      "\n",
      "    accuracy                           0.93     10586\n",
      "   macro avg       0.87      0.92      0.89     10586\n",
      "weighted avg       0.93      0.93      0.93     10586\n",
      "\n"
     ]
    }
   ],
   "source": [
    "print(\"\\nClassification Report:\")\n",
    "print(classification_report(y_test_encoded, y_pred_encoded, target_names=target_encoder.classes_))"
   ]
  },
  {
   "cell_type": "code",
   "execution_count": 16,
   "id": "3be77ff4",
   "metadata": {},
   "outputs": [
    {
     "name": "stdout",
     "output_type": "stream",
     "text": [
      "\n",
      "Confusion Matrix:\n",
      "[[ 115    0    5    3    2]\n",
      " [  11 4027  132  114   40]\n",
      " [  17   78 2868   55   25]\n",
      " [  17   67   68 1993   44]\n",
      " [   4   42   20   45  794]]\n"
     ]
    }
   ],
   "source": [
    "print(\"\\nConfusion Matrix:\")\n",
    "print(confusion_matrix(y_test_encoded, y_pred_encoded))"
   ]
  },
  {
   "cell_type": "code",
   "execution_count": 17,
   "id": "6a626fcd",
   "metadata": {},
   "outputs": [
    {
     "name": "stdout",
     "output_type": "stream",
     "text": [
      "Model saved to: C:/Users/Saima Modak/Capstone Projects/Tourism Analysis/Models/Visit Mode Predictor.pkl\n"
     ]
    }
   ],
   "source": [
    "# Saving model\n",
    "visit_mode_model = {\n",
    "    'model': model,\n",
    "    'scaler': scaler,\n",
    "    'encoders': encoders,\n",
    "    'features': all_features,\n",
    "    'target_encoder': target_encoder,\n",
    "    'month_mode_probs': month_mode_probs,\n",
    "    'continent_mode_probs': continent_mode_probs\n",
    "}\n",
    "\n",
    "file_path = \"C:/Users/Saima Modak/Capstone Projects/Tourism Analysis/Models/Visit Mode Predictor.pkl\"\n",
    "\n",
    "# Save to the specified location\n",
    "with open(file_path, 'wb') as f:\n",
    "    pickle.dump(visit_mode_model, f)\n",
    "\n",
    "print(f\"Model saved to: {file_path}\")"
   ]
  },
  {
   "cell_type": "code",
   "execution_count": null,
   "id": "7d279d7a",
   "metadata": {},
   "outputs": [],
   "source": []
  },
  {
   "cell_type": "code",
   "execution_count": null,
   "id": "dfc1f368",
   "metadata": {},
   "outputs": [],
   "source": []
  }
 ],
 "metadata": {
  "kernelspec": {
   "display_name": "base",
   "language": "python",
   "name": "python3"
  },
  "language_info": {
   "codemirror_mode": {
    "name": "ipython",
    "version": 3
   },
   "file_extension": ".py",
   "mimetype": "text/x-python",
   "name": "python",
   "nbconvert_exporter": "python",
   "pygments_lexer": "ipython3",
   "version": "3.12.4"
  }
 },
 "nbformat": 4,
 "nbformat_minor": 5
}
